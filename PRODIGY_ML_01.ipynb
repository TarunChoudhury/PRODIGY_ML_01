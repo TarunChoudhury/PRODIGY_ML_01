{
 "cells": [
  {
   "cell_type": "code",
   "execution_count": 1,
   "id": "dabd1345-e4a8-4a8a-ad3c-145706aef7a7",
   "metadata": {},
   "outputs": [
    {
     "name": "stdout",
     "output_type": "stream",
     "text": [
      "R-squared score: 0.6617682451199118\n",
      "Mean Squared Error: 1803923243.4651911\n",
      "      Actual      Predicted\n",
      "335   228950  219575.725398\n",
      "1074  194000  189660.849169\n",
      "933   190000  188887.153359\n",
      "982   159895  192450.719354\n",
      "921   145900  235326.645302\n",
      "...      ...            ...\n",
      "272   290000  242837.834262\n",
      "893   165000  145064.909951\n",
      "1255  127500  143348.066760\n",
      "1038   97000  140880.104673\n",
      "191   184000  126693.571434\n",
      "\n",
      "[292 rows x 2 columns]\n"
     ]
    }
   ],
   "source": [
    "#Implement a linear regression model to predict the prices of houses based on their square footage and the number of bedrooms and bathrooms.\n",
    "import numpy as np\n",
    "import pandas as pd\n",
    "from sklearn.model_selection import train_test_split\n",
    "from sklearn.linear_model import LinearRegression\n",
    "from sklearn.metrics import r2_score, mean_squared_error\n",
    "\n",
    "# Load the dataset\n",
    "data = pd.read_csv('train.csv')\n",
    "\n",
    "# Drop rows with missing values\n",
    "data = data.dropna(subset=['GrLivArea', 'BedroomAbvGr', 'FullBath', 'SalePrice'])\n",
    "\n",
    "# Select features and target variable\n",
    "X = data[['GrLivArea', 'BedroomAbvGr', 'FullBath']]\n",
    "y = data['SalePrice']\n",
    "\n",
    "# Split the data into training and testing sets\n",
    "X_train, X_test, y_train, y_test = train_test_split(X, y, test_size=0.2, random_state=41)\n",
    "\n",
    "# Initialize the linear regression model\n",
    "model = LinearRegression()\n",
    "\n",
    "# Fit the model\n",
    "model.fit(X_train, y_train)\n",
    "\n",
    "# Predict on the testing data\n",
    "y_pred = model.predict(X_test)\n",
    "\n",
    "# Evaluate the model\n",
    "r2 = r2_score(y_test, y_pred)\n",
    "mse = mean_squared_error(y_test, y_pred)\n",
    "print(f'R-squared score: {r2}')\n",
    "print(f'Mean Squared Error: {mse}')\n",
    "\n",
    "# Display predictions\n",
    "predictions_df = pd.DataFrame({'Actual': y_test, 'Predicted': y_pred})\n",
    "print(predictions_df)"
   ]
  },
  {
   "cell_type": "code",
   "execution_count": null,
   "id": "753408ab-0d40-4c44-a38c-d4286463b564",
   "metadata": {},
   "outputs": [],
   "source": []
  }
 ],
 "metadata": {
  "kernelspec": {
   "display_name": "Python 3 (ipykernel)",
   "language": "python",
   "name": "python3"
  },
  "language_info": {
   "codemirror_mode": {
    "name": "ipython",
    "version": 3
   },
   "file_extension": ".py",
   "mimetype": "text/x-python",
   "name": "python",
   "nbconvert_exporter": "python",
   "pygments_lexer": "ipython3",
   "version": "3.12.3"
  }
 },
 "nbformat": 4,
 "nbformat_minor": 5
}
